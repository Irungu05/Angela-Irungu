{
 "cells": [
  {
   "cell_type": "markdown",
   "id": "206777e1",
   "metadata": {},
   "source": [
    "## Section 1: Full Extraction"
   ]
  },
  {
   "cell_type": "code",
   "execution_count": null,
   "id": "c787cde9",
   "metadata": {},
   "outputs": [],
   "source": [
    "import pandas as pd\n",
    "\n",
    "# Load dataset\n",
    "df = pd.read_excel(\"Patient data.xlsx\")\n",
    "print(f\"Extracted {len(df)} rows fully.\")\n",
    "df.head()"
   ]
  },
  {
   "cell_type": "markdown",
   "id": "9ec94cc0",
   "metadata": {},
   "source": [
    "## Section 2: Incremental Extraction"
   ]
  },
  {
   "cell_type": "code",
   "execution_count": null,
   "id": "454df650",
   "metadata": {},
   "outputs": [],
   "source": [
    "from datetime import datetime\n",
    "\n",
    "# Load last extraction timestamp\n",
    "with open(\"last_extraction.txt\") as f:\n",
    "    last_extraction = pd.to_datetime(f.read().strip())\n",
    "\n",
    "# Ensure visit_date is datetime\n",
    "df[\"visit_date\"] = pd.to_datetime(df[\"visit_date\"], errors='coerce')\n",
    "\n",
    "# Extract only new records\n",
    "incremental_df = df[df[\"visit_date\"] > last_extraction]\n",
    "print(f\"Extracted {len(incremental_df)} rows incrementally since last check.\")\n",
    "incremental_df.head()"
   ]
  },
  {
   "cell_type": "markdown",
   "id": "29182c2e",
   "metadata": {},
   "source": [
    "## Section 3: Save New Timestamp"
   ]
  },
  {
   "cell_type": "code",
   "execution_count": null,
   "id": "5d187c17",
   "metadata": {},
   "outputs": [],
   "source": [
    "# Save current time for next incremental extraction\n",
    "with open(\"last_extraction.txt\", \"w\") as f:\n",
    "    f.write(datetime.now().isoformat())"
   ]
  },
  {
   "cell_type": "markdown",
   "id": "125398ff",
   "metadata": {},
   "source": [
    "## Section 4: Transform Full Data"
   ]
  },
  {
   "cell_type": "code",
   "execution_count": null,
   "id": "b414ff5c",
   "metadata": {},
   "outputs": [],
   "source": [
    "# Cleaning\n",
    "df = df.drop_duplicates()\n",
    "df = df.dropna(subset=[\"age\"])\n",
    "df[\"age\"] = pd.to_numeric(df[\"age\"], errors='coerce')\n",
    "\n",
    "# Enrichment\n",
    "df[\"is_senior\"] = df[\"age\"] >= 65\n",
    "\n",
    "# Categorization\n",
    "def categorize_age(age):\n",
    "    if pd.isna(age): return \"unknown\"\n",
    "    elif age < 13: return \"child\"\n",
    "    elif age < 20: return \"teen\"\n",
    "    elif age < 65: return \"adult\"\n",
    "    else: return \"senior\"\n",
    "df[\"age_group\"] = df[\"age\"].apply(categorize_age)\n",
    "\n",
    "# Save full transformed\n",
    "df.to_csv(\"transformed_full.csv\", index=False)\n",
    "df.head()"
   ]
  },
  {
   "cell_type": "markdown",
   "id": "fd4997f3",
   "metadata": {},
   "source": [
    "## Section 5: Transform Incremental Data"
   ]
  },
  {
   "cell_type": "code",
   "execution_count": null,
   "id": "189aa3c8",
   "metadata": {},
   "outputs": [],
   "source": [
    "# Apply same transformations\n",
    "incremental_df = incremental_df.drop_duplicates()\n",
    "incremental_df = incremental_df.dropna(subset=[\"age\"])\n",
    "incremental_df[\"age\"] = pd.to_numeric(incremental_df[\"age\"], errors='coerce')\n",
    "incremental_df[\"is_senior\"] = incremental_df[\"age\"] >= 65\n",
    "incremental_df[\"age_group\"] = incremental_df[\"age\"].apply(categorize_age)\n",
    "\n",
    "# Save incremental transformed\n",
    "incremental_df.to_csv(\"transformed_incremental.csv\", index=False)\n",
    "incremental_df.head()"
   ]
  }
 ],
 "metadata": {
  "kernelspec": {
   "display_name": "Python 3",
   "name": "python3"
  },
  "language_info": {
   "name": "python",
   "version": "3.11"
  }
 },
 "nbformat": 4,
 "nbformat_minor": 5
}